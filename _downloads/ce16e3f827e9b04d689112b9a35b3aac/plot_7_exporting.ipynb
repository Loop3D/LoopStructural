{
  "cells": [
    {
      "cell_type": "markdown",
      "metadata": {},
      "source": [
        "\n# 1j. Exporting models\n\nModels can be exported to vtk, gocad and geoh5 formats.\n"
      ]
    },
    {
      "cell_type": "code",
      "execution_count": null,
      "metadata": {
        "collapsed": false
      },
      "outputs": [],
      "source": [
        "from LoopStructural import GeologicalModel\nfrom LoopStructural.datasets import load_claudius\n\ndata, bb = load_claudius()\n\nmodel = GeologicalModel(bb[0, :], bb[1, :])\nmodel.data = data\nmodel.create_and_add_foliation(\"strati\")"
      ]
    },
    {
      "cell_type": "markdown",
      "metadata": {},
      "source": [
        "## Export surfaces to vtk\nIsosurfaces can be extracted from a geological feature by calling\nthe `.surfaces` method on the feature. The argument for this method\nis the value, values or number of surfaces that are extracted.\nThis returns a list of `LoopStructural.datatypes.Surface` objects\nThese objects can be interrogated to return the triangles, vertices\nand normals. Or can be exported into another format using the `save`\nmethod. The supported file formats are `vtk`, `ts` and `geoh5`.\n\n\n"
      ]
    },
    {
      "cell_type": "code",
      "execution_count": null,
      "metadata": {
        "collapsed": false
      },
      "outputs": [],
      "source": [
        "surfaces = model['strati'].surfaces(value=0.0)\n\nprint(surfaces)\n\nprint(surfaces[0].vtk)\n\n# surfaces[0].save('text.geoh5')"
      ]
    },
    {
      "cell_type": "markdown",
      "metadata": {},
      "source": [
        "## Export the model to geoh5\nThe entire model can be exported to a geoh5 file using the `save_model`\nmethod. This will save all the data, foliations, faults and other objects\nin the model to a geoh5 file. This file can be loaded into LoopStructural\n\n"
      ]
    },
    {
      "cell_type": "code",
      "execution_count": null,
      "metadata": {
        "collapsed": false
      },
      "outputs": [],
      "source": [
        "# model.save('model.geoh5')"
      ]
    }
  ],
  "metadata": {
    "kernelspec": {
      "display_name": "Python 3",
      "language": "python",
      "name": "python3"
    },
    "language_info": {
      "codemirror_mode": {
        "name": "ipython",
        "version": 3
      },
      "file_extension": ".py",
      "mimetype": "text/x-python",
      "name": "python",
      "nbconvert_exporter": "python",
      "pygments_lexer": "ipython3",
      "version": "3.12.11"
    }
  },
  "nbformat": 4,
  "nbformat_minor": 0
}