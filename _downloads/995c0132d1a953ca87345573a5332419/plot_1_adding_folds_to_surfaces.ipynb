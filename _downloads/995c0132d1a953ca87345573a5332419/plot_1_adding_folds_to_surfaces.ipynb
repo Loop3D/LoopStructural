{
  "cells": [
    {
      "cell_type": "markdown",
      "metadata": {},
      "source": [
        "\n# 2a. Modelling folds\n\n This tutorial will show how Loop Structural improves the modelling of\n folds by using an accurate parameterization of folds geometry. This will\n be done by: 1. Modelling folded surfaces without structural geology,\n i.e.\u00a0using only data points and adjusting the scalar fields to those\n points. 2. Modelling folds using structural geology, which includes: \\*\n Description of local fold frame and rotation angles calculation \\*\n Construction of folded foliations using fold geostatistics inside the\n fold frame coordinate system\n"
      ]
    },
    {
      "cell_type": "markdown",
      "metadata": {},
      "source": [
        "## Imports\n\n\n"
      ]
    },
    {
      "cell_type": "code",
      "execution_count": null,
      "metadata": {
        "collapsed": false
      },
      "outputs": [],
      "source": [
        "from LoopStructural import GeologicalModel\nfrom LoopStructural.datasets import load_noddy_single_fold\nfrom LoopStructural.visualisation import Loop3DView, RotationAnglePlotter\nimport pandas as pd"
      ]
    },
    {
      "cell_type": "markdown",
      "metadata": {},
      "source": [
        "## Structural geology of folds\n\n\n"
      ]
    },
    {
      "cell_type": "markdown",
      "metadata": {},
      "source": [
        "Folds are one of the most common features found in deformed rocks and\nare defined by the location of higher curvature. The geometry of the\nfolded surface can be characterised by three geometrical elements:\n\n1. the fold hinge is the point of maximum curvature along folded surface\n2. the axial surface is a surfaces that passes through all curvature\n   points in all folded foliations\n3. the fold axis is the intersection of the folded foliation and the\n   axial surface\n\nModelling folded surfaces using standard implicit algorithms is\nchallenging because the implicit modelling methods are generally trying\nto minimise the resulting curvature of the surface. To model folded\nsurfaces the geologist will need to characterise the geometry of the\nfolded surface in high detail.\n\n\n\n\n"
      ]
    },
    {
      "cell_type": "markdown",
      "metadata": {},
      "source": [
        "## Modelling folded surfaces without structural geology\n\nIn the following section we will attempt to model a synthetic fold shape\nthat is defined by a sinusoidal folded surface. For simplicity we will\nconsider the fold as cylindrical and therefore only consider the fold in\na 2D plane. The data set has been sampled from a model generated using\nNoddy and represents a fold with a wavelength of ~10km and amplitude of\n~2km.\n\nThe orientation of the structure has been sampled within the model\nvolume (10km,7km,5km) at 500m intervals.\n\n**The aim of this exercise is to investigate how standard implicit\nmodelling techniques are fundamentally limited when trying to model\nfolded surfaces.**\n\n1. Load data from sample datasets\n2. Visualise data\n3. Look at varying degrees of sampling e.g.\u00a0200 points, 100 points, 10\n   points.\n4. Look at using data points ONLY from a map surface\n\n\n"
      ]
    },
    {
      "cell_type": "markdown",
      "metadata": {},
      "source": [
        "### Modelling folded surfaces using loop structural\n\n\n"
      ]
    },
    {
      "cell_type": "code",
      "execution_count": null,
      "metadata": {
        "collapsed": false
      },
      "outputs": [],
      "source": [
        "# load the sample data\ndata, boundary_points = load_noddy_single_fold()\ndata.head()"
      ]
    },
    {
      "cell_type": "markdown",
      "metadata": {},
      "source": [
        "The input dataset was generated using Noddy by sampling the orientation\nof a structure on a regular grid. We have loaded it into a pandas\nDataFrame, this is basically an excel spreadsheet for python. Above are\nthe first 5 rows of the dataset and as we can see it is regularly\nsampled with data points being sampled regularly along the $z$,\n$y$ and $x$ axes. In order to avoid artefacts due to the\nsampling errors we will shuffle the data. We can do this using the\n``random`` column in the DataFrame (ensuring everyone has the same\ndata).\n\n\n"
      ]
    },
    {
      "cell_type": "code",
      "execution_count": null,
      "metadata": {
        "collapsed": false
      },
      "outputs": [],
      "source": [
        "data = data.sort_values(\n    \"random\"\n)  # sort the data by a random int then we can select N random points\ndata.head()"
      ]
    },
    {
      "cell_type": "markdown",
      "metadata": {},
      "source": [
        "The data points are now randomly ordered and can now be subsampled by\nchoosing the first N samples from the dataframe\n\n.. code:: python\n\n   data[:100]\n\nreturns the first 100 data points from the array\n\n\n"
      ]
    },
    {
      "cell_type": "markdown",
      "metadata": {},
      "source": [
        "### Testing data density\n\n-  Use the toggle bar to change the amount of data used by the\n   interpolation algorithm.\n-  How does the shape of the fold change as we remove data points?\n-  Now what happens if we only consider data from the map view?\n\n**HINT** you can view the strike and dip data by unchecking the scalar\nfield box.\n\n**The black arrows are the normal vector to the folded surface**\n\n\n"
      ]
    },
    {
      "cell_type": "code",
      "execution_count": null,
      "metadata": {
        "collapsed": false
      },
      "outputs": [],
      "source": [
        "npoints = 20\nmodel = GeologicalModel(boundary_points[0, :], boundary_points[1, :])\nmodel.set_model_data(data[:npoints])\nstratigraphy = model.create_and_add_foliation(\n    \"s0\", interpolatortype=\"PLI\", nelements=5000, buffer=0.3, cgw=0.1\n)  # .2)\nviewer = Loop3DView(model, background=\"white\")\n# viewer.add_scalar_field(model.bounding_box,(38,55,30),\n#                       'box',\n#                      paint_with=stratigraphy,\n#                      cmap='prism')\nviewer.plot_data(stratigraphy)\nviewer.plot_surface(stratigraphy, value=10)\nviewer.show()"
      ]
    },
    {
      "cell_type": "markdown",
      "metadata": {},
      "source": [
        "### Modelling folds using structural geology\n\nThe following section will describe how the fold axis, fold axial\nsurface and fold vergence can be used to help constrain the shape of the\nfolded surface. To do this we need to build a fold frame which is\ncurvilinear coordinate system based around the fold axis and the fold\naxial surface.\n\nThere are three coordinates to the fold frame: \\* coordinate 0 is the\naxial surface of the fold and is parallel to the axial foliation \\*\ncoordinate 1 is the fold axis direction field and is orthogonal to the\naxial foliation \\* coordinate 2 is orthogonal to both the fold axis\ndirection field and axial foliation and is roughly parallel to the\nextension direction of the fold\n\nThree direction vectors are defined by the normalised gradient of these\nfields: \\* $e_0$ - red \\* $e_1$ - green \\* $e_2$ -\nblue\n\nThe orientation of the folded foliation can be defined by rotating\n$e_1$ around $e_0$ by the fold axis rotation angle\n$\\alpha_P$ to give the orientation of the fold axis. The\norientation of the folded foliation can then be defined by rotating the\nplane defined by the fold axis and $e_0$ around the fold axis by\nthe fold limb rotation angle $\\alpha_L$.\n\n### Calculating the fold rotation angles\n\nThe rotation angles can be calculated for observations of the folded\nfoliation and assocaited lineations. For example, the fold axis rotation\nangle is found by calculating the angle between the gradient of the fold\naxis direction field and the intersection lineations shown in A). The\nfold limb rotation angle is found by finding the the angle to rotate the\nfolded foliation to be parallel to the plane of the axial foliation\nshown in B and C.\nThe wavelength can be specified by the user or in some cases estimated\nfrom the s-variogram of the fold frame coordinate system.\n\n\n"
      ]
    },
    {
      "cell_type": "code",
      "execution_count": null,
      "metadata": {
        "collapsed": false
      },
      "outputs": [],
      "source": [
        "mdata = pd.concat([data[:npoints], data[data[\"feature_name\"] == \"s1\"]])\nmodel = GeologicalModel(boundary_points[0, :], boundary_points[1, :])\nmodel.set_model_data(mdata)\nfold_frame = model.create_and_add_fold_frame(\n    \"s1\",\n    interpolatortype=\"PLI\",\n    nelements=10000,\n    buffer=0.5,\n)\nstratigraphy = model.create_and_add_folded_foliation(\n    \"s0\",\n    fold_frame=fold_frame,\n    nelements=10000,\n    fold_axis=[-6.51626577e-06, -5.00013645e-01, -8.66017526e-01],\n    limb_wl=12000,\n    buffer=0.5,\n)\nviewer = Loop3DView(model, background=\"white\")\n# viewer.add_scalar_field(model.bounding_box,(38,55,30),\n#                       'box',\n#                      paint_with=stratigraphy,\n#                      cmap='prism')\nviewer.plot_surface(\n    fold_frame[0],\n    value=10,\n    colour=\"blue\",\n    #                       isovalue=0.4,\n    opacity=0.5,\n)\nviewer.plot_data(stratigraphy)\n# viewer.add_isosurface(fold_frame[1],colour='green',alpha=0.5)\n# viewer.add_vector_field(fold_frame[0],locations=fold_frame[0].get_interpolator().support.barycentre)\n# viewer.add_data(fold_frame[1])\n\n# viewer.add_data(stratigraphy)\nviewer.plot_surface(stratigraphy, value=10)\nviewer.show()"
      ]
    },
    {
      "cell_type": "markdown",
      "metadata": {},
      "source": [
        "### Plotting the fold rotation angles\n\n"
      ]
    },
    {
      "cell_type": "code",
      "execution_count": null,
      "metadata": {
        "collapsed": false
      },
      "outputs": [],
      "source": [
        "rotation_plots = RotationAnglePlotter(stratigraphy)\nrotation_plots.add_fold_limb_data()\nrotation_plots.add_limb_svariogram()\n# plt.plot(stratigraphy.builder.fold.fold_limb_rotation.fold_frame_coordinate,stratigraphy['limb_rotation'],'bo')\n# x = np.linspace(fold_frame[0].min(),fold_frame[0].max(),100)\n# plt.plot(x,stratigraphy['fold'].fold_limb_rotation(x),'r--')\nrotation_plots.fig.show()"
      ]
    }
  ],
  "metadata": {
    "kernelspec": {
      "display_name": "Python 3",
      "language": "python",
      "name": "python3"
    },
    "language_info": {
      "codemirror_mode": {
        "name": "ipython",
        "version": 3
      },
      "file_extension": ".py",
      "mimetype": "text/x-python",
      "name": "python",
      "nbconvert_exporter": "python",
      "pygments_lexer": "ipython3",
      "version": "3.12.11"
    }
  },
  "nbformat": 4,
  "nbformat_minor": 0
}