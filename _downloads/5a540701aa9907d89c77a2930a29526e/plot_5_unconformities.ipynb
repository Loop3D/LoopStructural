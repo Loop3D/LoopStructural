{
  "cells": [
    {
      "cell_type": "markdown",
      "metadata": {},
      "source": [
        "\n# 1h. Unconformities and fault\nThis tutorial will demonstrate how to add unconformities to a mode using LoopStructural.\n"
      ]
    },
    {
      "cell_type": "code",
      "execution_count": null,
      "metadata": {
        "collapsed": false
      },
      "outputs": [],
      "source": [
        "import numpy as np\nimport pandas as pd\nfrom LoopStructural import GeologicalModel\nimport matplotlib.pyplot as plt\n\ndata = pd.DataFrame(\n    [\n        [100, 100, 150, 0.17, 0, 0.98, 0, \"strati\"],\n        [100, 100, 170, 0, 0, 0.86, 0, \"strati3\"],\n        [100, 100, 100, 0, 0, 1, 0, \"strati2\"],\n        [100, 100, 50, 0, 0, 1, 0, \"nconf\"],\n        [100, 100, 50, 0, 0, 1, 0, \"strati4\"],\n        [700, 100, 190, 1, 0, 0, np.nan, \"fault\"],\n    ],\n    columns=[\"X\", \"Y\", \"Z\", \"nx\", \"ny\", \"nz\", \"val\", \"feature_name\"],\n)\n\nmodel = GeologicalModel(np.zeros(3), np.array([1000, 1000, 200]))\nmodel.data = data\nmodel.create_and_add_foliation(\"strati2\", buffer=0.0)\nmodel.add_unconformity(model[\"strati2\"], 0)\nmodel.create_and_add_fault(\n    \"fault\",\n    50,\n    minor_axis=300,\n    major_axis=500,\n    intermediate_axis=300,\n    fault_center=[700, 500, 0],\n)\n\nmodel.create_and_add_foliation(\"strati\", buffer=0.0)\nmodel.add_unconformity(model[\"strati\"], 0)\nmodel.create_and_add_foliation(\"strati3\", buffer=0.0)\nmodel.create_and_add_foliation(\"nconf\", buffer=0.0)\nmodel.add_onlap_unconformity(model[\"nconf\"], 0)\nmodel.create_and_add_foliation(\"strati4\")\n\n\nstratigraphic_columns = {\n    \"strati4\": {\"series4\": {\"min\": -np.inf, \"max\": np.inf, \"id\": 5}},\n    \"strati2\": {\n        \"series1\": {\"min\": 0.0, \"max\": 2.0, \"id\": 0, \"colour\": \"red\"},\n        \"series2\": {\"min\": 2.0, \"max\": 5.0, \"id\": 1, \"colour\": \"red\"},\n        \"series3\": {\"min\": 5.0, \"max\": 10.0, \"id\": 2, \"colour\": \"red\"},\n    },\n    \"strati\": {\n        \"series2\": {\"min\": -np.inf, \"max\": -100, \"id\": 3, \"colour\": \"blue\"},\n        \"series3\": {\"min\": -100, \"max\": np.inf, \"id\": 4, \"colour\": \"blue\"},\n    },\n}\n\n\nmodel.set_stratigraphic_column(stratigraphic_columns)\n\nxx, zz = np.meshgrid(np.linspace(0, 1000, 100), np.linspace(0, 200, 100))\nyy = np.zeros_like(xx) + 500\npoints = np.array([xx.flatten(), yy.flatten(), zz.flatten()]).T\nval = model[\"strati\"].evaluate_value(points)\nval2 = model[\"strati2\"].evaluate_value(points)\nval3 = model[\"strati3\"].evaluate_value(points)\nval4 = model[\"strati4\"].evaluate_value(points)\nuf = model[\"strati4\"].regions[0](points)\nfval = model['fault'].evaluate_value(points)\n\nplt.contourf(val.reshape((100, 100)), extent=(0, 1000, 0, 200), cmap='viridis')\nplt.contourf(val2.reshape((100, 100)), extent=(0, 1000, 0, 200), cmap='Reds')\nplt.contourf(val3.reshape((100, 100)), extent=(0, 1000, 0, 200), cmap='Blues')\nplt.contourf(val4.reshape((100, 100)), extent=(0, 1000, 0, 200), cmap='Greens')\nplt.contour(fval.reshape((100, 100)), [0], extent=(0, 1000, 0, 200))"
      ]
    }
  ],
  "metadata": {
    "kernelspec": {
      "display_name": "Python 3",
      "language": "python",
      "name": "python3"
    },
    "language_info": {
      "codemirror_mode": {
        "name": "ipython",
        "version": 3
      },
      "file_extension": ".py",
      "mimetype": "text/x-python",
      "name": "python",
      "nbconvert_exporter": "python",
      "pygments_lexer": "ipython3",
      "version": "3.12.11"
    }
  },
  "nbformat": 4,
  "nbformat_minor": 0
}