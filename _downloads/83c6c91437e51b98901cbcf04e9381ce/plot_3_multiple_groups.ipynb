{
  "cells": [
    {
      "cell_type": "markdown",
      "metadata": {},
      "source": [
        "\n# 1c. Multiple groups\nCreating a model with multiple geological features, dealing with unconformities.\n"
      ]
    },
    {
      "cell_type": "code",
      "execution_count": null,
      "metadata": {
        "collapsed": false
      },
      "outputs": [],
      "source": [
        "from LoopStructural import GeologicalModel\nfrom LoopStructural.datasets import load_claudius\nfrom LoopStructural.visualisation import Loop3DView\n\n\ndata, bb = load_claudius()\ndata = data.reset_index()\n\ndata.loc[:, \"val\"] *= -1\ndata.loc[:, [\"nx\", \"ny\", \"nz\"]] *= -1\n\ndata.loc[792, \"feature_name\"] = \"strati2\"\ndata.loc[792, [\"nx\", \"ny\", \"nz\"]] = [0, 0, 1]\ndata.loc[792, \"val\"] = 0\n\nmodel = GeologicalModel(bb[0, :], bb[1, :])\nmodel.set_model_data(data)\n\nstrati2 = model.create_and_add_foliation(\n    \"strati2\",\n    interpolatortype=\"FDI\",\n    nelements=1e4,\n)\nuc = model.add_unconformity(strati2, 1)\n\nstrati = model.create_and_add_foliation(\n    \"strati\",\n    interpolatortype=\"FDI\",\n    nelements=1e4,\n)\n\nviewer = Loop3DView(model)\nviewer.plot_surface(\n    strati2,\n    #                       nslices=5\n    value=[2, 1.5, 1],\n)\nviewer.plot_surface(strati, value=[0, -60, -250, -330], paint_with=strati)\nviewer.display()"
      ]
    }
  ],
  "metadata": {
    "kernelspec": {
      "display_name": "Python 3",
      "language": "python",
      "name": "python3"
    },
    "language_info": {
      "codemirror_mode": {
        "name": "ipython",
        "version": 3
      },
      "file_extension": ".py",
      "mimetype": "text/x-python",
      "name": "python",
      "nbconvert_exporter": "python",
      "pygments_lexer": "ipython3",
      "version": "3.12.11"
    }
  },
  "nbformat": 4,
  "nbformat_minor": 0
}