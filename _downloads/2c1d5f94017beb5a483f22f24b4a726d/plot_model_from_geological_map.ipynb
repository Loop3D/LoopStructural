{
  "cells": [
    {
      "cell_type": "markdown",
      "metadata": {},
      "source": [
        "\n# 4.a Building a model using the ProcessInputData\nThere is a disconnect between the input data required by 3D modelling software and a geological map.\nIn LoopStructural the geological model is a collection of implicit functions that can be mapped to\nthe distribution of stratigraphic units and the location of fault surfaces. Each implicit function\nis approximated from the observations of the stratigraphy, this requires grouping conformable geological\nunits together as a singla implicit function, mapping the different stratigraphic horizons to a value of\nthe implicit function and determining the relationship with geological structures such as faults.\nIn this tutorial the **ProcessInputData** class will be used to convert geologically meaningful datasets to input for LoopStructural.\nThe **ProcessInputData** class uses:\n* stratigraphic contacts* stratigraphic orientations* stratigraphic thickness* stratigraphic order\nTo build a model of stratigraphic horizons and:* fault locations* fault orientations * fault properties* fault edges\nTo use incorporate faults into the geological model.\n"
      ]
    },
    {
      "cell_type": "markdown",
      "metadata": {},
      "source": [
        "## Imports\n\n"
      ]
    },
    {
      "cell_type": "code",
      "execution_count": null,
      "metadata": {
        "collapsed": false
      },
      "outputs": [],
      "source": [
        "from LoopStructural.modelling import ProcessInputData\nfrom LoopStructural import GeologicalModel\nfrom LoopStructural.visualisation import Loop3DView\nfrom LoopStructural.datasets import load_geological_map_data\n\nimport matplotlib.pyplot as plt"
      ]
    },
    {
      "cell_type": "markdown",
      "metadata": {},
      "source": [
        "## Read stratigraphy from csv\n\n"
      ]
    },
    {
      "cell_type": "code",
      "execution_count": null,
      "metadata": {
        "collapsed": false
      },
      "outputs": [],
      "source": [
        "(\n    contacts,\n    stratigraphic_orientations,\n    stratigraphic_thickness,\n    stratigraphic_order,\n    bbox,\n    fault_locations,\n    fault_orientations,\n    fault_properties,\n    fault_edges,\n) = load_geological_map_data()\n\nthicknesses = dict(\n    zip(\n        list(stratigraphic_thickness[\"name\"]),\n        list(stratigraphic_thickness[\"thickness\"]),\n    )\n)"
      ]
    },
    {
      "cell_type": "markdown",
      "metadata": {},
      "source": [
        "### Stratigraphic Contacts\n\n"
      ]
    },
    {
      "cell_type": "code",
      "execution_count": null,
      "metadata": {
        "collapsed": false
      },
      "outputs": [],
      "source": [
        "contacts\n\nfig, ax = plt.subplots(1)\nax.scatter(contacts[\"X\"], contacts[\"Y\"], c=contacts[\"name\"].astype(\"category\").cat.codes)\nax.set_title(\"Contact data\")"
      ]
    },
    {
      "cell_type": "markdown",
      "metadata": {},
      "source": [
        "## Stratigraphic orientations\nStratigraphic orientations needs to have X, Y, Z and either azimuth and dip, dipdirection and dip, strike\nand dip (RH thumb rule) or the vector components of the normal vector (nx, ny, nz)\n\n"
      ]
    },
    {
      "cell_type": "code",
      "execution_count": null,
      "metadata": {
        "collapsed": false
      },
      "outputs": [],
      "source": [
        "stratigraphic_orientations"
      ]
    },
    {
      "cell_type": "markdown",
      "metadata": {},
      "source": [
        "## Stratigraphic thickness\nStratigraphic thickness should be a dictionary containing the unit name (which should be in the contacts table)\nand the corresponding thickness of this unit.\n\n"
      ]
    },
    {
      "cell_type": "code",
      "execution_count": null,
      "metadata": {
        "collapsed": false
      },
      "outputs": [],
      "source": [
        "thicknesses"
      ]
    },
    {
      "cell_type": "markdown",
      "metadata": {},
      "source": [
        "## Bounding box\n* Origin - bottom left corner of the model # * Maximum - top right hand corner of the model\n\n"
      ]
    },
    {
      "cell_type": "code",
      "execution_count": null,
      "metadata": {
        "collapsed": false
      },
      "outputs": [],
      "source": [
        "origin = bbox.loc[\"origin\"].to_numpy()  # np.array(bbox[0].split(',')[1:],dtype=float)\nmaximum = bbox.loc[\"maximum\"].to_numpy()  # np.array(bbox[1].split(',')[1:],dtype=float)\n\nbbox"
      ]
    },
    {
      "cell_type": "markdown",
      "metadata": {},
      "source": [
        "## Stratigraphic column\nThe order of stratrigraphic units is defined a list of tuples containing the name of the group and the\norder of units within the group. For example there are 7 units in the following example that form two groups.\n\n"
      ]
    },
    {
      "cell_type": "code",
      "execution_count": null,
      "metadata": {
        "collapsed": false
      },
      "outputs": [],
      "source": [
        "# example nested list\n[\n    (\"youngest_group\", [\"unit1\", \"unit2\", \"unit3\", \"unit4\"]),\n    (\"older_group\", [\"unit5\", \"unit6\", \"unit7\"]),\n]\n\nstratigraphic_order\n\norder = [(\"supergroup_0\", list(stratigraphic_order[\"unit name\"]))]"
      ]
    },
    {
      "cell_type": "markdown",
      "metadata": {},
      "source": [
        "## Building a stratigraphic model\nA ProcessInputData onject can be built from these datasets using the argument names.\nA full list of possible arguments can be found in the documentation.\n\n"
      ]
    },
    {
      "cell_type": "code",
      "execution_count": null,
      "metadata": {
        "collapsed": false
      },
      "outputs": [],
      "source": [
        "processor = ProcessInputData(\n    contacts=contacts,\n    contact_orientations=stratigraphic_orientations.rename({\"formation\": \"name\"}, axis=1),\n    thicknesses=thicknesses,\n    stratigraphic_order=order,\n    origin=origin,\n    maximum=maximum,\n)\nprocessor.foliation_properties[\"supergroup_0\"] = {\"regularisation\": 1.0}"
      ]
    },
    {
      "cell_type": "markdown",
      "metadata": {},
      "source": [
        "The process input data can be used to directly build a geological model\n\n"
      ]
    },
    {
      "cell_type": "code",
      "execution_count": null,
      "metadata": {
        "collapsed": false
      },
      "outputs": [],
      "source": [
        "model = GeologicalModel.from_processor(processor)\nmodel.update()"
      ]
    },
    {
      "cell_type": "markdown",
      "metadata": {},
      "source": [
        "Or build directly from the dataframe and processor attributes.\n\n"
      ]
    },
    {
      "cell_type": "code",
      "execution_count": null,
      "metadata": {
        "collapsed": false
      },
      "outputs": [],
      "source": [
        "model2 = GeologicalModel(processor.origin, processor.maximum)\nmodel2.data = processor.data\nmodel2.create_and_add_foliation(\"supergroup_0\")\nmodel2.update()"
      ]
    },
    {
      "cell_type": "markdown",
      "metadata": {},
      "source": [
        "## Visualising model\n\n"
      ]
    },
    {
      "cell_type": "code",
      "execution_count": null,
      "metadata": {
        "collapsed": false
      },
      "outputs": [],
      "source": [
        "view = Loop3DView(model)\nview.plot_model_surfaces()\nview.display()"
      ]
    },
    {
      "cell_type": "markdown",
      "metadata": {},
      "source": [
        "## Adding faults\n\n"
      ]
    },
    {
      "cell_type": "code",
      "execution_count": null,
      "metadata": {
        "collapsed": false
      },
      "outputs": [],
      "source": [
        "fault_orientations\n\n\nfault_edges\n\n\nfault_properties\n\nprocessor = ProcessInputData(\n    contacts=contacts,\n    contact_orientations=stratigraphic_orientations.rename({\"formation\": \"name\"}, axis=1),\n    thicknesses=thicknesses,\n    stratigraphic_order=order,\n    origin=origin,\n    maximum=maximum,\n    fault_edges=fault_edges,\n    fault_orientations=fault_orientations,\n    fault_locations=fault_locations,\n    fault_properties=fault_properties,\n)\nprocessor.foliation_properties['supergroup_0']['regularisation'] = 1.0\nmodel = GeologicalModel.from_processor(processor)\nmodel.update()\n\nview = Loop3DView(model)\nview.plot_model_surfaces()\nview.display()"
      ]
    },
    {
      "cell_type": "markdown",
      "metadata": {},
      "source": [
        "Visualise stratigraphic column\n## ~~~~~~~~~~~~~~~~~~~~~~~~~~~~~\n\n"
      ]
    },
    {
      "cell_type": "code",
      "execution_count": null,
      "metadata": {
        "collapsed": false
      },
      "outputs": [],
      "source": [
        "from LoopStructural.visualisation import StratigraphicColumnView\n\nscv = StratigraphicColumnView(model)\nscv.plot()"
      ]
    }
  ],
  "metadata": {
    "kernelspec": {
      "display_name": "Python 3",
      "language": "python",
      "name": "python3"
    },
    "language_info": {
      "codemirror_mode": {
        "name": "ipython",
        "version": 3
      },
      "file_extension": ".py",
      "mimetype": "text/x-python",
      "name": "python",
      "nbconvert_exporter": "python",
      "pygments_lexer": "ipython3",
      "version": "3.12.11"
    }
  },
  "nbformat": 4,
  "nbformat_minor": 0
}