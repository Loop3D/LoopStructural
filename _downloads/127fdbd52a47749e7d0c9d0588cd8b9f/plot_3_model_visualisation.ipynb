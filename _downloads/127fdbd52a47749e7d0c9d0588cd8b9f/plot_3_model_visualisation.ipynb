{
  "cells": [
    {
      "cell_type": "markdown",
      "metadata": {},
      "source": [
        "\n# 1c. Visualising models\nThe following tutorial will demonstrate how to use the Loop structural visualisation module.\nThis module provides a wrapper for the lavavu model that is written by\nOwen Kaluza.\n\nLavavu allows for interactive visualisation of 3D models within a jupyter\nnotebook environment.\n"
      ]
    },
    {
      "cell_type": "markdown",
      "metadata": {},
      "source": [
        "## Imports\nImport the required objects from LoopStructural for visualisation and\nmodel building\n\n"
      ]
    },
    {
      "cell_type": "code",
      "execution_count": null,
      "metadata": {
        "collapsed": false
      },
      "outputs": [],
      "source": [
        "from LoopStructural import GeologicalModel\nfrom LoopStructural.visualisation import Loop3DView\n\nfrom LoopStructural.datasets import load_claudius  # demo data"
      ]
    },
    {
      "cell_type": "markdown",
      "metadata": {},
      "source": [
        "## Build the model\n\n"
      ]
    },
    {
      "cell_type": "code",
      "execution_count": null,
      "metadata": {
        "collapsed": false
      },
      "outputs": [],
      "source": [
        "data, bb = load_claudius()\nmodel = GeologicalModel(bb[0, :], bb[1, :])\nmodel.set_model_data(data)\nstrati = model.create_and_add_foliation(\"strati\")\nstrat_column = {\"strati\": {}}\nvals = [0, 60, 250, 330, 600]\nfor i in range(len(vals) - 1):\n    strat_column[\"strati\"][\"unit_{}\".format(i)] = {\n        \"min\": vals[i],\n        \"max\": vals[i + 1],\n        \"id\": i,\n    }\nmodel.set_stratigraphic_column(strat_column)"
      ]
    },
    {
      "cell_type": "markdown",
      "metadata": {},
      "source": [
        "## Visualising results\n\nThe Loop3DView is an LoopStructural class that provides easy 3D\nplotting options for plotting data points and resulting implicit\nfunctions.\n\nthe Loop3DView is a wrapper around the pyvista Plotter class. Allowing\nany of the methods for the pyvista Plotter class to be used.\n\nThe implicit function can be visualised by looking at isosurfaces of the\nscalar field.\n\n.. code:: python\n\n   viewer = Loop3DView()\n   viewer.plot_surface(feature,**kwargs)\n\nWhere optional kwargs can be:\n\n-  ``value`` specifying the number of regularly spaced isosurfaces\n-  ``paint_with`` the geological feature to colour the surface with\n-  ``cmap`` colour map for the colouring\n-  ``normals`` to plot the normal vectors to the surface\n-  ``name`` to give the surface\n-  ``colour`` the colour of the surface\n-  ``opacity`` the opacity of the surface\n-  ``vmin`` minimum value of the colour map\n-  ``vmax`` maximum value of the colour map\n-  ``pyvista_kwargs`` -  other kwargs for passing directly to pyvista `Plotter.add_mesh`\n\n\nAlternatively the scalar fields can be displayed on a rectangular cuboid.\n\n.. code:: python\n\n   viewer.plot_scalar_field(geological_feature, **kwargs)\n\n\nOther possible kwargs are:\n\n-  ``cmap`` colour map for the property\n-  ``vmin`` minimum value of the colour map\n-  ``vmax`` maximum value of the colour map\n-  ``opacity`` the opacity of the block\n-  ``pyvista_kwargs`` -  other kwargs for passing directly to pyvista `Plotter.add_mesh`\n\nThe input data for the model can be visualised by calling either:\n\n.. code:: python\n\n   viewer.plot_data(feature,**kwargs)\n\nWhere optional kwargs can be:\n- ``value`` - whether to add value data\n- ``vector`` - whether to add gradient data\n- ``scale`` - scale of the gradient vectors\n- ``pyvista_kwargs`` -  other kwargs for passing directly to pyvista `Plotter.add_mesh`\n\nThe gradient of a geological feature can be visualised by calling:\n\n.. code:: python\n\n   viewer.add_vector_field(feature, **kwargs)\n\nWhere the optional kwargs can be:\n- ``scale`` - scale of the gradient vectors\n\n\n\n\n"
      ]
    },
    {
      "cell_type": "code",
      "execution_count": null,
      "metadata": {
        "collapsed": false
      },
      "outputs": [],
      "source": [
        "viewer = Loop3DView(model, background=\"white\")\n\n# determine the number of unique surfaces in the model from\n# the input data and then calculate isosurfaces for this\n\nviewer.plot_surface(strati, value=vals, cmap=\"prism\", paint_with=strati)\n\n\nviewer.plot_scalar_field(strati, cmap=\"prism\")\n# print(viewer._build_stratigraphic_cmap(model))\nviewer.plot_block_model(cmap='tab20')\n# Add the data addgrad/addvalue arguments are optional\nviewer.plot_data(strati, vector=True, value=True)\nviewer.display()  # to add an interactive display"
      ]
    }
  ],
  "metadata": {
    "kernelspec": {
      "display_name": "Python 3",
      "language": "python",
      "name": "python3"
    },
    "language_info": {
      "codemirror_mode": {
        "name": "ipython",
        "version": 3
      },
      "file_extension": ".py",
      "mimetype": "text/x-python",
      "name": "python",
      "nbconvert_exporter": "python",
      "pygments_lexer": "ipython3",
      "version": "3.12.11"
    }
  },
  "nbformat": 4,
  "nbformat_minor": 0
}