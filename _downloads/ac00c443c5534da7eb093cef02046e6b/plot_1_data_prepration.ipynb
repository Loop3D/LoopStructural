{
  "cells": [
    {
      "cell_type": "markdown",
      "metadata": {},
      "source": [
        "\n# 1a. Getting started\nThis tutorial will demonstrate how to setup a basic geological model for using with LoopStructural.\n"
      ]
    },
    {
      "cell_type": "markdown",
      "metadata": {},
      "source": [
        "## Implicit surface modelling\nLoopStructural uses implicit surface representation to build upper and lower surfaces for geological horizons.\nImplicit surface representation involves approximating an unknown function $f(x,y,z)$ where the function value\nrepresents the distance from a reference horizon.\nGeological surfaces can be represented by tracing isovalues of the scalar field.\nThe implicit function is approximated using numerical techniques to find a function that fits the observations.\nThere are two main approaches used in implicit modelling for approximating these implicit functions:\n\n1. Data supported approximation using polynomial trend methods\n2. Discrete approaches using a interpolation support and minimising the misfit to observations and a regularisation term.\n\nThe main interpolation approach used by LoopStructural is Discrete implicit modelling approaches where the geological observations\nare combined with a regularisation term to find the best resulting surface.\n\nThere are two main interpolators that can be used:\n\n1. Piecewise Linear interpolator - which uses a regular tetrahedron mesh with P1 finite elements\n2. Finite difference interpolator - which uses a regular Cartesian grid with cubic elements using trilinear interpolation\n\n## Data types\nThere are three constraints that can be added to the interpolator\n\n1. Value constraints which set enforce $f(x,y,z) = value$\n2. Gradient constraints which set the interpolated gradient of the function to be orthogonal to an observed vector $f'(x,y,z) \\cdot v = 0$\n3. Gradient norm constraints which set the partial derivative of the implicit function to be equal to the components of the observed normal vector.\n\n## GeologicalFeatures\nA typical geological model may contain multiple geological interfaces, including unconformities and faults.\nConformable surfaces can be represented by a single implicit function where different isosurfaces represent different horizons.\n\nIn LoopStructural an implicit function is encapsulated by a GeologicalFeature.\nThe GeologicalFeature represents an object within the model that can be evaluated at any location within the model area.\n\n\n\n\n"
      ]
    },
    {
      "cell_type": "markdown",
      "metadata": {},
      "source": [
        "Define the model area\nOrigin = (0,0,0)\nMaximum = (10,10,10)\n\nCreate a pointset representing two flat surfaces one at z = 1 with a value of 0 and one at z = 5 with a value of 1,\nadd some noise to make it interesting!\n\n\n"
      ]
    },
    {
      "cell_type": "code",
      "execution_count": null,
      "metadata": {
        "collapsed": false
      },
      "outputs": [],
      "source": [
        "import numpy as np\nfrom LoopStructural.utils import rng\n\nextent = np.zeros((3, 2))\nextent[:, 1] = 10\n\nx = np.linspace(0, 10, 10)\ny = np.linspace(0, 10, 10)\n\nxx, yy = np.meshgrid(x, y)\nzz = np.zeros_like(xx)\nzz[:] = 1 + rng.random(zz.shape)\nval = np.zeros_like(xx)\nval[:] = 0\nsurface_1 = np.array([xx.flatten(), yy.flatten(), zz.flatten(), val.flatten()]).T\nzz[:] = 5 + rng.random(zz.shape)\nval[:] = 1\nsurface_2 = np.array([xx.flatten(), yy.flatten(), zz.flatten(), val.flatten()]).T"
      ]
    },
    {
      "cell_type": "markdown",
      "metadata": {},
      "source": [
        "## Creating LoopStructural dataset\nLoopStructural uses pandas dataframes for importing and manipulating the data used for geological\nmodelling. There are key headers that are used to interpret the numerical data into the geological\ninterpolators\n\n* :code:`X,Y,Z` represent the location of the observation\n* :code:`val` represents the value constraints\n* :code:`tx,ty,tz` represent the components of a vector which should be orthogonal to the interpolated function\n* :code:`gx,gy,gz` represent a constraint where the interpolated scalar field is parallel to this vector\n* :code:`nx,ny,nz` represent a constraint which set the partial derivatives of the function.\n* :code:`feature_name` assigns which geologicalfeature the observations control\n**Note** for the interpolator to solve there needs to be two unique values or a norm constraint\nfor the interpolator to be able to find a solution.\n\n"
      ]
    },
    {
      "cell_type": "code",
      "execution_count": null,
      "metadata": {
        "collapsed": false
      },
      "outputs": [],
      "source": [
        "import pandas as pd\n\ndata = pd.DataFrame(np.vstack([surface_1, surface_2]), columns=[\"X\", \"Y\", \"Z\", \"val\"])\ndata[\"feature_name\"] = \"conformable\"\ndata.head()"
      ]
    },
    {
      "cell_type": "markdown",
      "metadata": {},
      "source": [
        "## Creating a GeologicalModel\nThe GeologicalModel is the main entry point into LoopStructural which manages the model domain,\nsetting up the interpolators, unconformities, faults etc.\nTo create a GeologicalModel we need to define the extent of the model with an origin vector and a maximum vector.\nThe pandas dataframe that contains the model data need to be linked to the geological model.\n\n\n"
      ]
    },
    {
      "cell_type": "code",
      "execution_count": null,
      "metadata": {
        "collapsed": false
      },
      "outputs": [],
      "source": [
        "from LoopStructural import GeologicalModel\n\nmodel = GeologicalModel(extent[:, 0], extent[:, 1])\nmodel.set_model_data(data)"
      ]
    },
    {
      "cell_type": "markdown",
      "metadata": {},
      "source": [
        "## Adding a conformable foliation\nWe can create a geological feature using the create_and_add_foliation method.\nThis returns a To build a scalar field representing the\n\n"
      ]
    },
    {
      "cell_type": "code",
      "execution_count": null,
      "metadata": {
        "collapsed": false
      },
      "outputs": [],
      "source": [
        "conformable_feature = model.create_and_add_foliation(\"conformable\")"
      ]
    },
    {
      "cell_type": "markdown",
      "metadata": {},
      "source": [
        "## Visualising a 2-D section\nGeological feature can be evaluated:\n* for the scalar field value at a location\n* for the gradient of the scalar field at a location\nTo evaluate a model feature (scalar value or gradient) use the:\n:code:`model.evaluate_feature_value(feature_name, locations)` or\n:code:`model.evaluate_feature_gradient(feature_name, locations)`\nWhere the feature_name is the string naming the feature and locations is a numpy array of\nxyz coordinates.\n\nIn the following example we will use matplotlib to visualise these results however, the\nnext tutorial will show how to use the lavavu visualisation model.\n\n"
      ]
    },
    {
      "cell_type": "code",
      "execution_count": null,
      "metadata": {
        "collapsed": false
      },
      "outputs": [],
      "source": [
        "import matplotlib.pyplot as plt\n\n# X section\ny = np.linspace(0, 10, 100)\nz = np.linspace(0, 10, 100)\n\nyy, zz = np.meshgrid(y, z)\nxx = np.zeros_like(yy)\nxx[:] = 5\n\nvals = model.evaluate_feature_value(\n    \"conformable\", np.array([xx.flatten(), yy.flatten(), zz.flatten()]).T\n)\nfig, ax = plt.subplots(1, 2, figsize=(20, 10))\nax[0].contourf(vals.reshape((100, 100)), extent=(0, 10, 0, 10))\nax[0].contour(vals.reshape((100, 100)), [0, 1], extent=(0, 10, 0, 10))\n\n# Y section\nx = np.linspace(0, 10, 100)\nz = np.linspace(0, 10, 100)\n\nxx, zz = np.meshgrid(x, z)\nyy = np.zeros_like(xx)\nyy[:] = 5\n\nvals = model.evaluate_feature_value(\n    \"conformable\", np.array([xx.flatten(), yy.flatten(), zz.flatten()]).T\n)\nax[1].contourf(vals.reshape((100, 100)), extent=(0, 10, 0, 10))\nax[1].contour(vals.reshape((100, 100)), [0, 1], extent=(0, 10, 0, 10))\n\nplt.show()"
      ]
    }
  ],
  "metadata": {
    "kernelspec": {
      "display_name": "Python 3",
      "language": "python",
      "name": "python3"
    },
    "language_info": {
      "codemirror_mode": {
        "name": "ipython",
        "version": 3
      },
      "file_extension": ".py",
      "mimetype": "text/x-python",
      "name": "python",
      "nbconvert_exporter": "python",
      "pygments_lexer": "ipython3",
      "version": "3.12.11"
    }
  },
  "nbformat": 4,
  "nbformat_minor": 0
}