{
  "cells": [
    {
      "cell_type": "markdown",
      "metadata": {},
      "source": [
        "\n# 3a. Modelling faults using structural frames\n"
      ]
    },
    {
      "cell_type": "code",
      "execution_count": null,
      "metadata": {
        "collapsed": false
      },
      "outputs": [],
      "source": [
        "from LoopStructural import GeologicalModel\nfrom LoopStructural.visualisation import Loop3DView\nfrom LoopStructural.datasets import load_intrusion\nimport numpy as np\nimport matplotlib.pyplot as plt\n\ndata, bb = load_intrusion()"
      ]
    },
    {
      "cell_type": "markdown",
      "metadata": {},
      "source": [
        "## Modelling faults using structural frames\n\nStandard implicit modelling techniques either treat faults as domain\nboundaries or use a step function in the implicit function to capture\nthe displacement in the faulted surface.\n\nAdding faults into the implicit function using step functions is limited\nbecause this does not capture the kinematics of the fault. It\neffectively defines the fault displacement by adding a value to the\nscalar field on the hanging wall of the fault. In the example below a\n2-D ellipsoidal function is combined with a step function to show how\nthe resulting geometry results in a shrinking shape. This would be\nrepresentative of modelling an intrusion.\n\n\n"
      ]
    },
    {
      "cell_type": "code",
      "execution_count": null,
      "metadata": {
        "collapsed": false
      },
      "outputs": [],
      "source": [
        "intrusion = lambda x, y: (x * 2) ** 2 + (y**2)\nx = np.linspace(-10, 10, 100)\ny = np.linspace(-10, 10, 100)\nxx, yy = np.meshgrid(x, y)\nfault = np.zeros(xx.shape)\nfault[yy > 0] = 50\nval = intrusion(xx, yy) + fault\n\n\nplt.contourf(val)"
      ]
    },
    {
      "cell_type": "markdown",
      "metadata": {},
      "source": [
        "LoopStructural applies structural frames to the fault geometry to\ncapture the geometry and kinematics of the fault. A fault frame\nconsisting of the fault surface, fault slip direction and fault extent\nare built from observations. The geometry of the deformed surface is\nthen interpolated by first restoring the observations by combining the\nfault frame and an expected displacement model.\n\n\n"
      ]
    },
    {
      "cell_type": "code",
      "execution_count": null,
      "metadata": {
        "collapsed": false
      },
      "outputs": [],
      "source": [
        "model = GeologicalModel(bb[0, :], bb[1, :])\nmodel.set_model_data(data)\nfault = model.create_and_add_fault(\n    \"fault\", 500\n)\n\nviewer = Loop3DView(model)\nviewer.plot_surface(\n    fault,\n    value=0,\n    #                       slices=[0,1]#nslices=10\n)\nxyz = model.data[model.data[\"feature_name\"] == \"strati\"][[\"X\", \"Y\", \"Z\"]].to_numpy()\nxyz = xyz[fault.evaluate(xyz).astype(bool), :]\nviewer.plot_vector_field(fault)\nviewer.add_points(\n    model.rescale(\n        model.data[model.data[\"feature_name\"] == \"strati\"][[\"X\", \"Y\", \"Z\"]].values,\n        inplace=False,\n    ),\n    name=\"prefault\",\n)\nviewer.display()\n\n\ndisplacement = 400  # INSERT YOUR DISPLACEMENT NUMBER HERE BEFORE #\n\nmodel = GeologicalModel(bb[0, :], bb[1, :])\nmodel.set_model_data(data)\nfault = model.create_and_add_fault(\n    \"fault\", displacement, nelements=2000, \n)\nstrati = model.create_and_add_foliation(\"strati\")\nmodel.update()\nviewer = Loop3DView(model)\nviewer.plot_surface(strati, value=0.)\n# viewer.add_data(model.features[0][0])\nviewer.plot_data(strati)\nviewer.plot_surface(\n    fault,\n    value=0.,\n    #                       slices=[0,1]#nslices=10\n)\nviewer.add_points(\n    model.rescale(\n        model.data[model.data[\"feature_name\"] == \"strati\"][[\"X\", \"Y\", \"Z\"]].values,\n        inplace=False,\n    ),\n    name=\"prefault\",\n)\nviewer.display()"
      ]
    }
  ],
  "metadata": {
    "kernelspec": {
      "display_name": "Python 3",
      "language": "python",
      "name": "python3"
    },
    "language_info": {
      "codemirror_mode": {
        "name": "ipython",
        "version": 3
      },
      "file_extension": ".py",
      "mimetype": "text/x-python",
      "name": "python",
      "nbconvert_exporter": "python",
      "pygments_lexer": "ipython3",
      "version": "3.12.11"
    }
  },
  "nbformat": 4,
  "nbformat_minor": 0
}