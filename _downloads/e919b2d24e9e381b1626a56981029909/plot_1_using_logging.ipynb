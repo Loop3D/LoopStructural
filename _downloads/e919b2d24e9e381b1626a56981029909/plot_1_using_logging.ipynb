{
  "cells": [
    {
      "cell_type": "markdown",
      "metadata": {},
      "source": [
        "\n# 1e. Using logging\nLoopStructural has a number of levels of logging incorporated in the code to allow\nfor recording and debugging the models.\nThe python logging module allows for 5 levels of messages to be returned to the user:\n1. Debug messages\n2. Info messages\n3. Warning messages\n4. Error messages\n5. Critical messages\n\nLoopStructural uses all of these logging levels to report the various aspects of the model\nbuilding process.\nGenerally, the user only needs to be aware of the warning and error messages.\n\nBy default the warning, error and critical messages are returned to the console and will appear to\nthe user.\nAll messages except for debug are recorded to a file :code:`default-loop-structural-logfile.log`.\n\nLets have a look at the logging from the Claudius model.\n"
      ]
    },
    {
      "cell_type": "code",
      "execution_count": null,
      "metadata": {
        "collapsed": false
      },
      "outputs": [],
      "source": [
        "from LoopStructural import GeologicalModel\nfrom LoopStructural.visualisation import Loop3DView\nfrom LoopStructural.datasets import load_claudius  # demo data\nfrom LoopStructural import log_to_file"
      ]
    },
    {
      "cell_type": "markdown",
      "metadata": {},
      "source": [
        "## Specify a log file\n\n"
      ]
    },
    {
      "cell_type": "code",
      "execution_count": null,
      "metadata": {
        "collapsed": false
      },
      "outputs": [],
      "source": [
        "log_to_file(\"logging_demo_log.log\")"
      ]
    },
    {
      "cell_type": "markdown",
      "metadata": {},
      "source": [
        "## Create model\n\n"
      ]
    },
    {
      "cell_type": "code",
      "execution_count": null,
      "metadata": {
        "collapsed": false
      },
      "outputs": [],
      "source": [
        "data, bb = load_claudius()\nmodel = GeologicalModel(bb[0, :], bb[1, :])\nmodel.set_model_data(data)\n\nvals = [0, 60, 250, 330, 600]\nstrat_column = {\"strati\": {}}\nfor i in range(len(vals) - 1):\n    strat_column[\"strati\"][\"unit_{}\".format(i)] = {\n        \"min\": vals[i],\n        \"max\": vals[i + 1],\n        \"id\": i,\n    }\nmodel.set_stratigraphic_column(strat_column)\nstrati = model.create_and_add_foliation(\n    \"strati\",\n    interpolatortype=\"FDI\",  # try changing this to 'PLI'\n    nelements=1e4,  # try changing between 1e3 and 5e4\n    buffer=0.3,\n    damp=True,\n)\nviewer = Loop3DView(model, background=\"white\")\nviewer.plot_model_surfaces()\nviewer.display()"
      ]
    },
    {
      "cell_type": "markdown",
      "metadata": {},
      "source": [
        "## Looking at the log file\nHere are the first 10 lines of the log file.\nMost operations in loopstructural are recorded and this will allow you to identify whether\nan operation is not occuring as you would expect.\n\n"
      ]
    },
    {
      "cell_type": "code",
      "execution_count": null,
      "metadata": {
        "collapsed": false
      },
      "outputs": [],
      "source": [
        "# with open('logging_demo_log.log') as inf:\n#     for line in islice(inf, 0, 11):\n#         print(line)"
      ]
    },
    {
      "cell_type": "markdown",
      "metadata": {},
      "source": [
        "## Logging to console\nIt is also possible to change the logging level for the console log.\n\n"
      ]
    },
    {
      "cell_type": "code",
      "execution_count": null,
      "metadata": {
        "collapsed": false
      },
      "outputs": [],
      "source": [
        "from LoopStructural import log_to_console\n\nlog_to_console(\"info\")\n\n\nfrom LoopStructural import GeologicalModel\nfrom LoopStructural.visualisation import Loop3DView\nfrom LoopStructural.datasets import load_claudius  # demo data\n\n\ndata, bb = load_claudius()\nmodel = GeologicalModel(bb[0, :], bb[1, :])\nmodel.set_model_data(data)\n\nvals = [0, 60, 250, 330, 600]\nstrat_column = {\"strati\": {}}\nfor i in range(len(vals) - 1):\n    strat_column[\"strati\"][\"unit_{}\".format(i)] = {\n        \"min\": vals[i],\n        \"max\": vals[i + 1],\n        \"id\": i,\n    }\nmodel.set_stratigraphic_column(strat_column)\nstrati = model.create_and_add_foliation(\n    \"strati\",\n    interpolatortype=\"FDI\",  # try changing this to 'PLI'\n    nelements=1e4,  # try changing between 1e3 and 5e4\n    buffer=0.3,\n    damp=True,\n)\nviewer = Loop3DView(model, background=\"white\")\nviewer.plot_model_surfaces()\nviewer.display()"
      ]
    }
  ],
  "metadata": {
    "kernelspec": {
      "display_name": "Python 3",
      "language": "python",
      "name": "python3"
    },
    "language_info": {
      "codemirror_mode": {
        "name": "ipython",
        "version": 3
      },
      "file_extension": ".py",
      "mimetype": "text/x-python",
      "name": "python",
      "nbconvert_exporter": "python",
      "pygments_lexer": "ipython3",
      "version": "3.12.11"
    }
  },
  "nbformat": 4,
  "nbformat_minor": 0
}