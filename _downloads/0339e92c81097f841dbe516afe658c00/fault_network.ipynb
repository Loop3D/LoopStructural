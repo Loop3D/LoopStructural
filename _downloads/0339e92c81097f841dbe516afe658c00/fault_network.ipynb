{
  "cells": [
    {
      "cell_type": "markdown",
      "metadata": {},
      "source": [
        "\n# 3b. Modelling a fault network in LoopStructural\nUses GeologicalModel, ProcessInputData and Loop3DView from LoopStructural library.\nAlso using geopandas to read a shapefile, pandas, matplotlib and numpy.\n"
      ]
    },
    {
      "cell_type": "code",
      "execution_count": null,
      "metadata": {
        "collapsed": false
      },
      "outputs": [],
      "source": [
        "import LoopStructural\n\nLoopStructural.__version__\n\nfrom LoopStructural import GeologicalModel\nfrom LoopStructural.modelling import ProcessInputData\nfrom LoopStructural.visualisation import Loop3DView\nfrom LoopStructural.datasets import load_fault_trace\nfrom LoopStructural.utils import rng\nimport pandas as pd\nimport matplotlib.pyplot as plt\nimport numpy as np"
      ]
    },
    {
      "cell_type": "markdown",
      "metadata": {},
      "source": [
        "## Read shapefile\nRead the shapefile and create a point for each node of the line\n\n"
      ]
    },
    {
      "cell_type": "code",
      "execution_count": null,
      "metadata": {
        "collapsed": false
      },
      "outputs": [],
      "source": [
        "fault_trace = load_fault_trace()\nfaults = []\nfor i in range(len(fault_trace)):\n    for x, y in zip(fault_trace.loc[i, :].geometry.xy[0], fault_trace.loc[i, :].geometry.xy[1]):\n        faults.append(\n            [fault_trace.loc[i, \"fault_name\"], x, y, rng.random() * 0.4]\n        )  # better results if points aren't from a single plane\ndf = pd.DataFrame(faults, columns=[\"fault_name\", \"X\", \"Y\", \"Z\"])\n\nfig, ax = plt.subplots()\nax.scatter(df[\"X\"], df[\"Y\"])\nax.axis(\"square\")\n\nscale = np.min([df[\"X\"].max() - df[\"X\"].min(), df[\"Y\"].max() - df[\"Y\"].min()])\ndf[\"X\"] /= scale\ndf[\"Y\"] /= scale"
      ]
    },
    {
      "cell_type": "markdown",
      "metadata": {},
      "source": [
        "## Orientation data\nWe can generate vertical dip data at the centre of the fault.\n\n"
      ]
    },
    {
      "cell_type": "code",
      "execution_count": null,
      "metadata": {
        "collapsed": false
      },
      "outputs": [],
      "source": [
        "ori = []\nfor f in df[\"fault_name\"].unique():\n    centre = df.loc[df[\"fault_name\"] == f, [\"X\", \"Y\", \"Z\"]].mean().to_numpy().tolist()\n    tangent = (\n        df.loc[df[\"fault_name\"] == f, [\"X\", \"Y\", \"Z\"]].to_numpy()[0, :]\n        - df.loc[df[\"fault_name\"] == f, [\"X\", \"Y\", \"Z\"]].to_numpy()[-1, :]\n    )\n    norm = tangent / np.linalg.norm(tangent)\n    norm = norm.dot(np.array([[0, -1, 0], [1, 0, 0], [0, 0, 0]]))\n    ori.append([f, *centre, *norm])  # .extend(centre.extend(norm.tolist())))\n# fault_orientations = pd.DataFrame([[\nori = pd.DataFrame(ori, columns=[\"fault_name\", \"X\", \"Y\", \"Z\", \"gx\", \"gy\", \"gz\"])"
      ]
    },
    {
      "cell_type": "markdown",
      "metadata": {},
      "source": [
        "## Model extent\n# Calculate the bounding box for the model using the extent of the shapefiles. We make the Z coordinate 10% of the maximum x/y length.\n\n"
      ]
    },
    {
      "cell_type": "code",
      "execution_count": null,
      "metadata": {
        "collapsed": false
      },
      "outputs": [],
      "source": [
        "z = np.max([df[\"X\"].max(), df[\"Y\"].max()]) - np.min([df[\"X\"].min(), df[\"Y\"].min()])\nz *= 0.2\norigin = [df[\"X\"].min() - z, df[\"Y\"].min() - z, -z]\nmaximum = [df[\"X\"].max() + z, df[\"Y\"].max() + z, z]"
      ]
    },
    {
      "cell_type": "markdown",
      "metadata": {},
      "source": [
        "## Setting up the data\nThe `ProcessInputData` class is used to convert common geological map components to the datastructures required by LoopStructural.#\nTo build a fault network we need to provide:# * fault locations - a table of x,y,z, and the fault name\n1. fault orientations - a table recording the orientation observations of the fault, e.g. strike, dip or normal vector and x,y,z, fault_name\n2. origin - the origin of the model bounding box\n3. maximum - the maximum extend of the model bounding box\n4. fault_edges - list of intersection relationships between faults e.g. [('fault1','fault2')] indicates that there is a intersection between fault1 and fault2\n5. fault_edge_properties - list of properties for the fault edges - this can be the type of intersection e.g. 'splay' or 'abut' or just the angle between the faults\n6. fault_properties (*optional*)  - a pandas dataframe with any kwargs for the interpolator where the index is the fault name #\n\n Below is an example of setting the number of interpolation elements for each fault\n\n"
      ]
    },
    {
      "cell_type": "markdown",
      "metadata": {},
      "source": [
        "## Modelling splay faults\nA splay fault relationship is defined for any fault where the angle between the faults is less than $30^\\circ$.\nIn this example we specify the angle between the faults as $10^\\circ$.\n\n"
      ]
    },
    {
      "cell_type": "code",
      "execution_count": null,
      "metadata": {
        "collapsed": false
      },
      "outputs": [],
      "source": [
        "processor = ProcessInputData(\n    fault_orientations=ori,\n    fault_locations=df,\n    origin=origin,\n    maximum=maximum,\n    fault_edges=[(\"fault_2\", \"fault_1\")],\n    fault_edge_properties=[{\"angle\": 10}],\n)\n\nmodel = GeologicalModel.from_processor(processor)\nmodel.update()\n\nview = Loop3DView(model)\nfor f in model.faults:\n    view.add_isosurface(f, slices=[0])  #\nview.rotation = [-50.92916488647461, -30.319700241088867, -20.521053314208984]\nview.display()"
      ]
    },
    {
      "cell_type": "markdown",
      "metadata": {},
      "source": [
        "## Modelling abutting faults\nIn this exampe we will use the same faults but specify the angle between the faults as $40^\\circ$ which will change\nthe fault relationship to be abutting rather than splay.\n\n"
      ]
    },
    {
      "cell_type": "code",
      "execution_count": null,
      "metadata": {
        "collapsed": false
      },
      "outputs": [],
      "source": [
        "processor = ProcessInputData(\n    fault_orientations=ori,\n    fault_locations=df,\n    origin=origin,\n    maximum=maximum,\n    fault_edges=[(\"fault_2\", \"fault_1\")],\n    fault_edge_properties=[{\"angle\": 40}],\n)\n\nmodel = GeologicalModel.from_processor(processor)\n\nview = Loop3DView(model)\nfor f in model.faults:\n    view.add_isosurface(f, slices=[0])  #\n    view.add_data(f[0], vectors=True)\n\nview.rotation = [-50.92916488647461, -30.319700241088867, -20.521053314208984]\nview.display()"
      ]
    }
  ],
  "metadata": {
    "kernelspec": {
      "display_name": "Python 3",
      "language": "python",
      "name": "python3"
    },
    "language_info": {
      "codemirror_mode": {
        "name": "ipython",
        "version": 3
      },
      "file_extension": ".py",
      "mimetype": "text/x-python",
      "name": "python",
      "nbconvert_exporter": "python",
      "pygments_lexer": "ipython3",
      "version": "3.12.11"
    }
  },
  "nbformat": 4,
  "nbformat_minor": 0
}