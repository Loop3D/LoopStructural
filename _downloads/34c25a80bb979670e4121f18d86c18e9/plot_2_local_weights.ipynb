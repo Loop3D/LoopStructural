{
  "cells": [
    {
      "cell_type": "markdown",
      "metadata": {},
      "source": [
        "\n# 1f. Local data weighting\nLoopStructural primarily uses discrete interpolation methods (e.g. finite differences on a regular grid,\nor linear/quadratic on tetrahedral meshes). The interpolation is determined by combining a regularisation\nterm and the data weights. The default behaviour is for every data point to be weighted equally, however\nit is also possible to vary these weights per datapoint.\n"
      ]
    },
    {
      "cell_type": "code",
      "execution_count": null,
      "metadata": {
        "collapsed": false
      },
      "outputs": [],
      "source": [
        "from LoopStructural import GeologicalModel\nfrom LoopStructural.datasets import load_claudius\nfrom LoopStructural.visualisation import Loop3DView"
      ]
    },
    {
      "cell_type": "markdown",
      "metadata": {},
      "source": [
        "## Use Cladius case study\n\n\n"
      ]
    },
    {
      "cell_type": "code",
      "execution_count": null,
      "metadata": {
        "collapsed": false
      },
      "outputs": [],
      "source": [
        "data, bb = load_claudius()\ndata.head()"
      ]
    },
    {
      "cell_type": "markdown",
      "metadata": {},
      "source": [
        "## Build model with constant weighting\nBuild model with weight 1.0 for the control points (cpw) and gradient normal constraints (npw)\n\n"
      ]
    },
    {
      "cell_type": "code",
      "execution_count": null,
      "metadata": {
        "collapsed": false
      },
      "outputs": [],
      "source": [
        "model = GeologicalModel(bb[0, :], bb[1, :])\nmodel.data = data\nmodel.create_and_add_foliation(\n    \"strati\", nelements=10_000, interpolatortype=\"FDI\", cpw=1.0, npw=1.0, regularisation=1.0\n)\nview = Loop3DView(model)\nview.plot_surface(model[\"strati\"], value=data[\"val\"].dropna().unique())\nview.display()"
      ]
    },
    {
      "cell_type": "markdown",
      "metadata": {},
      "source": [
        "Change weights to\n\n"
      ]
    },
    {
      "cell_type": "code",
      "execution_count": null,
      "metadata": {
        "collapsed": false
      },
      "outputs": [],
      "source": [
        "model = GeologicalModel(bb[0, :], bb[1, :])\nmodel.data = data\nmodel.create_and_add_foliation(\"strati\", interpolatortype=\"FDI\", cpw=10.0, npw=1.0,regularisation=1.)\nview = Loop3DView(model)\nview.plot_surface(model[\"strati\"], value=data[\"val\"].dropna().unique())\nview.display()"
      ]
    },
    {
      "cell_type": "markdown",
      "metadata": {},
      "source": [
        "Locally vary weights\n# ~~~~~~~~~~~~~~~~~~~~~~~~~~~~~~~~~~~~~~~~~\nAdd a weight column to the dataframe and decrease the weighting of the points\nin the North of the model.\n\n"
      ]
    },
    {
      "cell_type": "code",
      "execution_count": null,
      "metadata": {
        "collapsed": false
      },
      "outputs": [],
      "source": [
        "data, bb = load_claudius()\ndata[\"w\"] = 1.0\ndata.loc[data[\"Y\"] > (bb[1, 1] - bb[0, 1]) * 0.2 + bb[0, 1], \"w\"] = 0.01\ndata.sample(10)\nmodel = GeologicalModel(bb[0, :], bb[1, :])\nmodel.data = data\n# cpw/npw are multipliers for the weight column\nmodel.create_and_add_foliation(\"strati\", cpw=1.0, npw=1, regularisation=1.0)\nview = Loop3DView(model)\nview.plot_surface(model[\"strati\"], value=data[\"val\"].dropna().unique())\nview.display()"
      ]
    }
  ],
  "metadata": {
    "kernelspec": {
      "display_name": "Python 3",
      "language": "python",
      "name": "python3"
    },
    "language_info": {
      "codemirror_mode": {
        "name": "ipython",
        "version": 3
      },
      "file_extension": ".py",
      "mimetype": "text/x-python",
      "name": "python",
      "nbconvert_exporter": "python",
      "pygments_lexer": "ipython3",
      "version": "3.12.11"
    }
  },
  "nbformat": 4,
  "nbformat_minor": 0
}