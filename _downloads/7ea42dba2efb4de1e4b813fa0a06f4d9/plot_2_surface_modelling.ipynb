{
  "cells": [
    {
      "cell_type": "markdown",
      "metadata": {},
      "source": [
        "\n# 1b. Implicit surface modelling\nThis tutorial will demonstrate how to create an implicit surface\nrepresentation of surfaces from a combination of orientation and\nlocation observations.\n\nImplicit surface representation involves finding an unknown function\nwhere $f(x,y,z)$ matches observations of the surface geometry. We\ngenerate a scalar field where the scalar value is the distance away from\na reference horizon. The reference horizon is arbritary and can either\nbe:\n\n-  a single geological surface where the scalar field would represent\n   the signed distance away from this surface. (above the surface\n   positive and below negative)\n-  Where multiple conformable horizons are observed the same scalar\n   field can be used to represent these surfaces and the thickness of\n   the layers is used to determine the relative scalar value for each\n   surface\n\nThis tutorial will demonstrate both of these approaches for modelling a\nnumber of horizons picked from seismic data sets, by following the next\nsteps: 1. Creation of a geological model, which includes: \\*\nPresentation and visualization of the data \\* Addition of a geological\nfeature, which in this case is the stratigraphy of the model. 2.\nVisualization of the scalar field.\n"
      ]
    },
    {
      "cell_type": "markdown",
      "metadata": {},
      "source": [
        "## Imports\nImport the required objects from LoopStructural for visualisation and\nmodel building\n\n"
      ]
    },
    {
      "cell_type": "code",
      "execution_count": null,
      "metadata": {
        "collapsed": false
      },
      "outputs": [],
      "source": [
        "from LoopStructural import GeologicalModel\nfrom LoopStructural.visualisation import Loop3DView\nfrom LoopStructural.datasets import load_claudius  # demo data\n\nimport numpy as np"
      ]
    },
    {
      "cell_type": "markdown",
      "metadata": {},
      "source": [
        "## Load Example Data\nThe data for this example can be imported from the example datasets\nmodule in LoopStructural. The `load_claudius` function provides both\nthe data and the bounding box (bb) for the model.\n\n"
      ]
    },
    {
      "cell_type": "code",
      "execution_count": null,
      "metadata": {
        "collapsed": false
      },
      "outputs": [],
      "source": [
        "data, bb = load_claudius()\n\n# Display unique scalar field values in the dataset\nprint(data[\"val\"].unique())"
      ]
    },
    {
      "cell_type": "markdown",
      "metadata": {},
      "source": [
        "## Create Geological Model\nDefine the model area using the bounding box (bb) and create a\nGeologicalModel instance.\n\n"
      ]
    },
    {
      "cell_type": "code",
      "execution_count": null,
      "metadata": {
        "collapsed": false
      },
      "outputs": [],
      "source": [
        "model = GeologicalModel(bb[0, :], bb[1, :])"
      ]
    },
    {
      "cell_type": "markdown",
      "metadata": {},
      "source": [
        "## Link Data to Geological Model\nA pandas dataframe with appropriate columns is used to link the data\nto the geological model. Key columns include:\n* `X`, `Y`, `Z`: Coordinates of the observation\n* `feature_name`: Name linking the data to a model object\n* `val`: Scalar field value representing distance from a reference horizon\n* `nx`, `ny`, `nz`: Components of the normal vector to the surface gradient\n* `strike`, `dip`: Strike and dip angles\n\n"
      ]
    },
    {
      "cell_type": "code",
      "execution_count": null,
      "metadata": {
        "collapsed": false
      },
      "outputs": [],
      "source": [
        "# Display unique feature names in the dataset\nprint(data[\"feature_name\"].unique())\n\n# Visualize the data points and orientation vectors in 3D\nviewer = Loop3DView(background=\"white\")\nviewer.add_points(\n    data[~np.isnan(data[\"val\"])][[\"X\", \"Y\", \"Z\"]].values,\n    scalars=data[~np.isnan(data[\"val\"])][\"val\"].values,\n)\nviewer.add_arrows(\n    data[~np.isnan(data[\"nx\"])][[\"X\", \"Y\", \"Z\"]].values,\n    direction=data[~np.isnan(data[\"nx\"])][[\"nx\", \"ny\", \"nz\"]].values,\n)\nviewer.display()\n\n# Link the data to the geological model\nmodel.set_model_data(data)"
      ]
    },
    {
      "cell_type": "markdown",
      "metadata": {},
      "source": [
        "## Add Geological Features\nThe GeologicalModel can include various geological features such as\nfoliations, faults, unconformities, and folds. In this example, we\nadd a foliation using the `create_and_add_foliation` method.\n\n"
      ]
    },
    {
      "cell_type": "code",
      "execution_count": null,
      "metadata": {
        "collapsed": false
      },
      "outputs": [],
      "source": [
        "# Define stratigraphic column with scalar field ranges for each unit\nvals = [0, 60, 250, 330, 600]\nstrat_column = {\"strati\": {}}\nfor i in range(len(vals) - 1):\n    strat_column[\"strati\"][\"unit_{}\".format(i)] = {\n        \"min\": vals[i],\n        \"max\": vals[i + 1],\n        \"id\": i,\n    }\n\n# Set the stratigraphic column in the model\nmodel.set_stratigraphic_column(strat_column)\n\n# Add a foliation to the model\nstrati = model.create_and_add_foliation(\n    \"strati\",\n    interpolatortype=\"FDI\",  # Finite Difference Interpolator\n    nelements=int(1e4),  # Number of elements for discretization\n    buffer=0.3,  # Buffer percentage around the model area\n    damp=True,  # Add damping for stability\n)"
      ]
    },
    {
      "cell_type": "markdown",
      "metadata": {},
      "source": [
        "## Visualize Model Surfaces\nPlot the surfaces of the geological model using a 3D viewer.\n\n"
      ]
    },
    {
      "cell_type": "code",
      "execution_count": null,
      "metadata": {
        "collapsed": false
      },
      "outputs": [],
      "source": [
        "print(model.stratigraphic_column.to_dict())\nviewer = Loop3DView(model)\nviewer.plot_model_surfaces(cmap=\"tab20\")\nviewer.display()"
      ]
    },
    {
      "cell_type": "markdown",
      "metadata": {},
      "source": [
        "## Visualize Block Diagram\nPlot a block diagram of the geological model to visualize the\nstratigraphic units in 3D.\n\n"
      ]
    },
    {
      "cell_type": "code",
      "execution_count": null,
      "metadata": {
        "collapsed": false
      },
      "outputs": [],
      "source": [
        "viewer = Loop3DView(model)\nviewer.plot_block_model(cmap=\"tab20\")\nviewer.display()"
      ]
    }
  ],
  "metadata": {
    "kernelspec": {
      "display_name": "Python 3",
      "language": "python",
      "name": "python3"
    },
    "language_info": {
      "codemirror_mode": {
        "name": "ipython",
        "version": 3
      },
      "file_extension": ".py",
      "mimetype": "text/x-python",
      "name": "python",
      "nbconvert_exporter": "python",
      "pygments_lexer": "ipython3",
      "version": "3.12.11"
    }
  },
  "nbformat": 4,
  "nbformat_minor": 0
}