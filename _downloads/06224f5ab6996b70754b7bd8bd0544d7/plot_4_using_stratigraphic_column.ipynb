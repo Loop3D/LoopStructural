{
  "cells": [
    {
      "cell_type": "markdown",
      "metadata": {},
      "source": [
        "\n# 1d. Using Stratigraphic Columns\nWe will use the previous example Creating a model with multiple geological features, dealing with unconformities.\n"
      ]
    },
    {
      "cell_type": "code",
      "execution_count": null,
      "metadata": {
        "collapsed": false
      },
      "outputs": [],
      "source": [
        "from LoopStructural import GeologicalModel\nfrom LoopStructural.datasets import load_claudius\nfrom LoopStructural.visualisation import Loop3DView\n\nimport numpy as np\n\ndata, bb = load_claudius()\ndata = data.reset_index()\n\ndata.loc[:, \"val\"] *= -1\ndata.loc[:, [\"nx\", \"ny\", \"nz\"]] *= -1\n\ndata.loc[792, \"feature_name\"] = \"strati2\"\ndata.loc[792, [\"nx\", \"ny\", \"nz\"]] = [0, 0, 1]\ndata.loc[792, \"val\"] = 0\n\nmodel = GeologicalModel(bb[0, :], bb[1, :])\nmodel.set_model_data(data)\n\nstrati2 = model.create_and_add_foliation(\n    \"strati2\",\n    interpolatortype=\"FDI\",\n    nelements=1e4,\n)\nuc = model.add_unconformity(strati2, 1)\n\nstrati = model.create_and_add_foliation(\n    \"strati\",\n    interpolatortype=\"FDI\",\n    nelements=1e4,\n)"
      ]
    },
    {
      "cell_type": "markdown",
      "metadata": {},
      "source": [
        "## Stratigraphic columns\nWe define the stratigraphic column using a nested dictionary\n\n"
      ]
    },
    {
      "cell_type": "code",
      "execution_count": null,
      "metadata": {
        "collapsed": false
      },
      "outputs": [],
      "source": [
        "stratigraphic_column = {}\nstratigraphic_column[\"strati2\"] = {}\nstratigraphic_column[\"strati2\"][\"unit1\"] = {\"min\": 1, \"max\": 10, \"id\": 0}\nstratigraphic_column[\"strati\"] = {}\nstratigraphic_column[\"strati\"][\"unit2\"] = {\"min\": -60, \"max\": 0, \"id\": 1}\nstratigraphic_column[\"strati\"][\"unit3\"] = {\"min\": -250, \"max\": -60, \"id\": 2}\nstratigraphic_column[\"strati\"][\"unit4\"] = {\"min\": -330, \"max\": -250, \"id\": 3}\nstratigraphic_column[\"strati\"][\"unit5\"] = {\"min\": -np.inf, \"max\": -330, \"id\": 4}"
      ]
    },
    {
      "cell_type": "markdown",
      "metadata": {},
      "source": [
        "## Adding stratigraphic column to the model\nThe stratigraphic column can be added to the geological model. Allowing\nfor the `model.evaluate_model(xyz)` function to be called.\n\n"
      ]
    },
    {
      "cell_type": "code",
      "execution_count": null,
      "metadata": {
        "collapsed": false
      },
      "outputs": [],
      "source": [
        "model.set_stratigraphic_column(stratigraphic_column)\n\nviewer = Loop3DView(model)\nviewer.plot_block_model(cmap='tab20')\nviewer.display()"
      ]
    }
  ],
  "metadata": {
    "kernelspec": {
      "display_name": "Python 3",
      "language": "python",
      "name": "python3"
    },
    "language_info": {
      "codemirror_mode": {
        "name": "ipython",
        "version": 3
      },
      "file_extension": ".py",
      "mimetype": "text/x-python",
      "name": "python",
      "nbconvert_exporter": "python",
      "pygments_lexer": "ipython3",
      "version": "3.12.11"
    }
  },
  "nbformat": 4,
  "nbformat_minor": 0
}