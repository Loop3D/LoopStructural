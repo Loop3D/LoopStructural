{
  "cells": [
    {
      "cell_type": "markdown",
      "metadata": {},
      "source": [
        "\n# 3c. Defining the fault displacement function\n"
      ]
    },
    {
      "cell_type": "code",
      "execution_count": null,
      "metadata": {
        "collapsed": false
      },
      "outputs": [],
      "source": [
        "import numpy as np\nimport pandas as pd\nimport LoopStructural as LS\n\n# Define a dataset for a fault\n\norigin = [0, 0, 0]\nextent = [10, 10, 10]\n\ndata = pd.DataFrame(\n    [\n        [5, 5, 5, 0, 0.70710678, 0.0, 0.70710678, 0, \"fault\"],\n        [5, 5, 5, 0, -0.70710678, 0.0, 0.70710678, 1, \"fault\"],\n        [8, 5, 5, 0, 0, 0, 1, np.nan, \"strati\"],\n    ],\n    columns=[\"X\", \"Y\", \"Z\", \"val\", \"nx\", \"ny\", \"nz\", \"coord\", \"feature_name\"],\n)\n\ndata"
      ]
    },
    {
      "cell_type": "markdown",
      "metadata": {},
      "source": [
        "Create model using the standard fault displacement model\n\n"
      ]
    },
    {
      "cell_type": "code",
      "execution_count": null,
      "metadata": {
        "collapsed": false
      },
      "outputs": [],
      "source": [
        "model = LS.GeologicalModel(origin, extent)\nmodel.data = data\nmodel.create_and_add_fault(\n    \"fault\",\n    1,\n    nelements=1000,\n    interpolator_type=\"PLI\",\n    buffer=0.5,\n    major_axis=10,\n    minor_axis=3,\n    intermediate_axis=10,\n)\nmodel.create_and_add_foliation(\n    \"strati\", nelements=1000, interpolator_type=\"PLI\", faults=[model[\"fault\"]]\n)\n\n\nimport LoopStructural.visualisation as vis\n\nview = vis.Loop3DView(model)\nview.add_isosurface(model.features[0], slices=[0])\nview.add_isosurface(model.features[1], nslices=5, paint_with=model.features[1])\n# view.add_vector_field(model[\"fault\"][1], locations=model.regular_grid()[::100])\nview.camera = {\n    'translate': [0.0, 0.0, -17.321],\n    'rotate': [-0.703, -0.055, -0.043, 0.708],\n    'xyzrotate': [-89.604, -8.007, 0.933],\n    'fov': 45.0,\n}\nview.display()"
      ]
    },
    {
      "cell_type": "markdown",
      "metadata": {},
      "source": [
        "Define a fault displacement profile which\nis a drag fault only on the footwall side.\nIn LoopStructural the displacement is defined by a function of the three\ncoordinates of the fault frame.\nThe fault profile in the fault surface field\n\n"
      ]
    },
    {
      "cell_type": "code",
      "execution_count": null,
      "metadata": {
        "collapsed": false
      },
      "outputs": [],
      "source": [
        "model['fault'].faultfunction.gx.plot()"
      ]
    },
    {
      "cell_type": "markdown",
      "metadata": {},
      "source": [
        "The fault profile in the fault extent\n\n"
      ]
    },
    {
      "cell_type": "code",
      "execution_count": null,
      "metadata": {
        "collapsed": false
      },
      "outputs": [],
      "source": [
        "model['fault'].faultfunction.gy.plot()"
      ]
    },
    {
      "cell_type": "markdown",
      "metadata": {},
      "source": [
        "The fault profile down dip is kept constant.\nWe will modify this profile so that the hanging wall is displaced by a constant value\n\n"
      ]
    },
    {
      "cell_type": "code",
      "execution_count": null,
      "metadata": {
        "collapsed": false
      },
      "outputs": [],
      "source": [
        "from LoopStructural.modelling.features.fault._fault_function import (\n    FaultDisplacement,\n    CubicFunction,\n    Ones,\n)\n\nfw = CubicFunction()\nfw.add_cstr(0, -1)\nfw.add_grad(0, 0)\nfw.add_cstr(-1, 0)\nfw.add_grad(-1, 0)\nfw.add_min(-1)\nhw = Ones()\ndrag_fault = FaultDisplacement(hw=hw, fw=fw)\n\ndrag_fault.gx.plot()\ndrag_fault.gy.plot()\ndrag_fault.gz.plot()\n\nmodel = LS.GeologicalModel(origin, extent)\nmodel.data = data\nmodel.create_and_add_fault(\n    \"fault\",\n    -1,\n    nelements=1000,\n    interpolator_type=\"PLI\",\n    buffer=0.5,\n    major_axis=10,\n    minor_axis=6,\n    intermediate_axis=10,\n    faultfunction=drag_fault,\n)\nmodel.create_and_add_foliation(\n    \"strati\", nelements=1000, interpolator_type=\"PLI\", faults=[model[\"fault\"]]\n)\n\n\nview = vis.Loop3DView(model)\nview.nelements = 1e5\nview.add_isosurface(model.features[0], slices=[0])\nview.add_isosurface(model['strati'], nslices=5)\n# view.add_scalar_field(model['strati'], cmap='tab20')\n# view.add_vector_field(model[\"fault\"][1], locations=model.regular_grid()[::100])\nview.camera = {\n    'translate': [0.0, 0.0, -17.321],\n    'rotate': [-0.703, -0.055, -0.043, 0.708],\n    'xyzrotate': [-89.604, -8.007, 0.933],\n    'fov': 45.0,\n}\n\nview.display()"
      ]
    }
  ],
  "metadata": {
    "kernelspec": {
      "display_name": "Python 3",
      "language": "python",
      "name": "python3"
    },
    "language_info": {
      "codemirror_mode": {
        "name": "ipython",
        "version": 3
      },
      "file_extension": ".py",
      "mimetype": "text/x-python",
      "name": "python",
      "nbconvert_exporter": "python",
      "pygments_lexer": "ipython3",
      "version": "3.12.11"
    }
  },
  "nbformat": 4,
  "nbformat_minor": 0
}